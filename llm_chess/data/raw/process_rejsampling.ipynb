{
 "cells": [
  {
   "cell_type": "code",
   "execution_count": 1,
   "id": "6f284402",
   "metadata": {},
   "outputs": [],
   "source": [
    "import os\n",
    "import re\n",
    "import json"
   ]
  },
  {
   "cell_type": "code",
   "execution_count": 2,
   "id": "7830ad22",
   "metadata": {},
   "outputs": [
    {
     "name": "stdout",
     "output_type": "stream",
     "text": [
      "bestmove_rejsampling_4000_correct_20250527-055643.json: 1164\n",
      "legalmoves_rejsampling_4000_correct_20250527-055643.json: 352\n",
      "predictmove_rejsampling_4000_correct_20250527-055643.json: 723\n",
      "worstmove_rejsampling_4000_correct_20250527-055643.json: 1030\n",
      "Final length of processed data: 3269\n"
     ]
    }
   ],
   "source": [
    "parent_dir = \"rej_sampling_outputs\"\n",
    "output_dir = \"processed_data\"\n",
    "filenames = [\n",
    "    \"bestmove_rejsampling_4000_correct_20250527-055643.json\",\n",
    "    \"legalmoves_rejsampling_4000_correct_20250527-055643.json\",\n",
    "    \"predictmove_rejsampling_4000_correct_20250527-055643.json\",\n",
    "    \"worstmove_rejsampling_4000_correct_20250527-055643.json\",\n",
    "]\n",
    "\n",
    "# Helper processing function\n",
    "HEADER_PATTERN = re.compile(\n",
    "    r\"<\\|header_start\\|>(\\w+)<\\|header_end\\|>\\n?(.*?)(?=(<\\|header_start\\|>|<\\|eot\\|>|$))\",\n",
    "    re.DOTALL\n",
    ")\n",
    "\n",
    "def process_sample(sample):\n",
    "    result = []\n",
    "    prompt = sample['prompt']\n",
    "    completion = sample['completion']\n",
    "\n",
    "    for match in HEADER_PATTERN.finditer(prompt):\n",
    "        role, content = match.group(1), match.group(2).strip()\n",
    "        content = re.sub(r\"<\\|(?!header_start\\|)(?!header_end\\|)[^>]*\\|>\", \"\", content)\n",
    "        if role == \"system\":\n",
    "            pass\n",
    "        elif role == \"user\":\n",
    "            pass\n",
    "        elif role == \"assistant\":\n",
    "            continue        \n",
    "        else:\n",
    "            raise ValueError(f\"Improper role to be processed -- role: {role}.\")\n",
    "        if content:\n",
    "            result.append((role, content))\n",
    "\n",
    "    # Also process assistant data\n",
    "    completion = re.sub(r'(<\\|eot\\|>|<eot_id>)\\s*$', '', completion).strip()\n",
    "    if completion:\n",
    "        result.append(('assistant', completion))\n",
    "    return result\n",
    "\n",
    "outputs = []\n",
    "for file in filenames:\n",
    "    with open(os.path.join(parent_dir, file), \"r\", encoding=\"utf-8\") as f:\n",
    "        data = json.load(f)\n",
    "        print(f\"{file}: {len(data)}\")\n",
    "        for sample in data:\n",
    "            outputs.append({\"chat\": process_sample(sample)})\n",
    "\n",
    "# Save down\n",
    "print(f\"Final length of processed data: {len(outputs)}\")\n",
    "with open(f\"{output_dir}/rejsampling_clean_{len(outputs)}.jsonl\", \"w\", encoding=\"utf-8\") as f:\n",
    "    for item in outputs:\n",
    "        f.write(json.dumps(item, ensure_ascii=False) + \"\\n\")"
   ]
  }
 ],
 "metadata": {
  "kernelspec": {
   "display_name": "llm_chess",
   "language": "python",
   "name": "python3"
  },
  "language_info": {
   "codemirror_mode": {
    "name": "ipython",
    "version": 3
   },
   "file_extension": ".py",
   "mimetype": "text/x-python",
   "name": "python",
   "nbconvert_exporter": "python",
   "pygments_lexer": "ipython3",
   "version": "3.11.11"
  }
 },
 "nbformat": 4,
 "nbformat_minor": 5
}
