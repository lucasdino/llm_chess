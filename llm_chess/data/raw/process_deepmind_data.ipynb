{
 "cells": [
  {
   "cell_type": "markdown",
   "id": "52998c46",
   "metadata": {},
   "source": [
    "# Initial Data Processing\n",
    "---\n",
    "Purpose of this is to take our initial deepmind dataset and process it. For ex., remove board states w/ only 1 move.\n",
    "\n",
    "Then create a dataset with samples we can use for train, test, and evals that are non-overlapping."
   ]
  },
  {
   "cell_type": "code",
   "execution_count": 1,
   "id": "dbc39b58",
   "metadata": {},
   "outputs": [],
   "source": [
    "import ast\n",
    "import pandas as pd"
   ]
  },
  {
   "cell_type": "code",
   "execution_count": null,
   "id": "ceae840d",
   "metadata": {},
   "outputs": [
    {
     "name": "stdout",
     "output_type": "stream",
     "text": [
      "Length of initial df:   62561\n",
      "Length of processed df: 61833\n"
     ]
    }
   ],
   "source": [
    "# Import as a dataframe\n",
    "file_path = './deepmind_data/deepmind_test_62k.csv'\n",
    "df = pd.read_csv(file_path)\n",
    "\n",
    "# Need to convert from string to lists\n",
    "df['Move'] = df['Move'].apply(ast.literal_eval)\n",
    "df['Win Probability'] = df['Win Probability'].apply(ast.literal_eval)\n",
    "print(f\"Length of initial df:   {len(df)}\")\n",
    "\n",
    "# Remove all rows w/ less than 2 moves\n",
    "df = df[df['Move'].apply(len) >= 2]\n",
    "print(f\"Length of processed df: {len(df)}\")"
   ]
  },
  {
   "cell_type": "code",
   "execution_count": 3,
   "id": "96c744ac",
   "metadata": {},
   "outputs": [],
   "source": [
    "def process_fen(fen):\n",
    "    \"\"\"Process FEN by spacing out the board part (before first space), preserving the rest unchanged.\"\"\"\n",
    "    first_space_idx = fen.find(' ')\n",
    "    board = ' '.join(fen[:first_space_idx])\n",
    "    suffix = fen[first_space_idx:]\n",
    "    return board + suffix\n",
    "\n",
    "# Process the FEN strings\n",
    "# df['FEN'] = df['FEN'].apply(process_fen)"
   ]
  },
  {
   "cell_type": "code",
   "execution_count": null,
   "id": "794de200",
   "metadata": {},
   "outputs": [],
   "source": [
    "# Now sample data -- create three datasets saved in the 'raw' folder\n",
    "# Shuffle the DataFrame to randomize rows\n",
    "df = df.sample(frac=1, random_state=42).reset_index(drop=True)\n",
    "\n",
    "# Split the data without overlap\n",
    "train_df = df.iloc[:20000]  # First 20k samples for 'train'\n",
    "evals_df = df.iloc[20000:21000]  # Next 1k samples for 'evals'\n",
    "test_df = df.iloc[21000:23000]  # Next 2k samples for 'test'\n",
    "\n",
    "# Save the datasets to CSV files in the 'raw' folder\n",
    "train_df.to_csv('./deepmind_data/train_20k.csv', index=False)\n",
    "evals_df.to_csv('./deepmind_data/evals_1k.csv', index=False)\n",
    "test_df.to_csv('./deepmind_data/test_2k.csv', index=False)"
   ]
  }
 ],
 "metadata": {
  "kernelspec": {
   "display_name": "llm_chess",
   "language": "python",
   "name": "python3"
  },
  "language_info": {
   "codemirror_mode": {
    "name": "ipython",
    "version": 3
   },
   "file_extension": ".py",
   "mimetype": "text/x-python",
   "name": "python",
   "nbconvert_exporter": "python",
   "pygments_lexer": "ipython3",
   "version": "3.11.11"
  }
 },
 "nbformat": 4,
 "nbformat_minor": 5
}
