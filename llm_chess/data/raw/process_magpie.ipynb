{
 "cells": [
  {
   "cell_type": "code",
   "execution_count": 1,
   "metadata": {},
   "outputs": [],
   "source": [
    "import os\n",
    "import json\n",
    "\n",
    "import pandas as pd"
   ]
  },
  {
   "cell_type": "code",
   "execution_count": 2,
   "metadata": {},
   "outputs": [],
   "source": [
    "# Parameters\n",
    "input_path = './magpie_data/magpie_llama70b_00-of-13.parquet'\n",
    "output_dir = './processed_magpie'\n",
    "num_samples = 20000\n",
    "output_filename = f'magpieclean_{num_samples//1000}k.jsonl' \n",
    "\n",
    "# Load the Parquet file\n",
    "df = pd.read_parquet(input_path)"
   ]
  },
  {
   "cell_type": "code",
   "execution_count": 3,
   "metadata": {},
   "outputs": [
    {
     "name": "stdout",
     "output_type": "stream",
     "text": [
      "Saved 20000 samples to ./processed_magpie\\magpieclean_20k.jsonl\n"
     ]
    }
   ],
   "source": [
    "# Randomly sample up to num_samples rows\n",
    "if num_samples < len(df):\n",
    "    df = df.sample(n=num_samples)\n",
    "else:\n",
    "    print(f\"Requested {num_samples} samples, but only {len(df)} available. Using all rows.\")\n",
    "\n",
    "outputs = []\n",
    "for _, row in df.iterrows():\n",
    "    chat_history = [\n",
    "        [\"system\", \"llama4_default_sysprompt.txt\"],\n",
    "        [\"user\", row['instruction']],\n",
    "        [\"assistant\", row['response']]\n",
    "    ]\n",
    "    outputs.append({\"chat\": chat_history})\n",
    "\n",
    "# Ensure output directory exists\n",
    "os.makedirs(output_dir, exist_ok=True)\n",
    "\n",
    "# Save as JSONL\n",
    "output_path = os.path.join(output_dir, output_filename)\n",
    "with open(output_path, 'w', encoding='utf-8') as f:\n",
    "    for obj in outputs:\n",
    "        f.write(json.dumps(obj) + '\\n')\n",
    "\n",
    "print(f\"Saved {len(outputs)} samples to {output_path}\")"
   ]
  }
 ],
 "metadata": {
  "kernelspec": {
   "display_name": "llm_chess",
   "language": "python",
   "name": "python3"
  },
  "language_info": {
   "codemirror_mode": {
    "name": "ipython",
    "version": 3
   },
   "file_extension": ".py",
   "mimetype": "text/x-python",
   "name": "python",
   "nbconvert_exporter": "python",
   "pygments_lexer": "ipython3",
   "version": "3.11.11"
  }
 },
 "nbformat": 4,
 "nbformat_minor": 2
}
